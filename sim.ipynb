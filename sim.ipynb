{
 "cells": [
  {
   "cell_type": "code",
   "execution_count": 1,
   "metadata": {},
   "outputs": [
    {
     "name": "stderr",
     "output_type": "stream",
     "text": [
      "── \u001b[1mAttaching packages\u001b[22m ─────────────────────────────────────── tidyverse 1.3.0 ──\n",
      "\n",
      "\u001b[32m✔\u001b[39m \u001b[34mggplot2\u001b[39m 3.3.5     \u001b[32m✔\u001b[39m \u001b[34mpurrr  \u001b[39m 0.3.4\n",
      "\u001b[32m✔\u001b[39m \u001b[34mtibble \u001b[39m 3.1.6     \u001b[32m✔\u001b[39m \u001b[34mdplyr  \u001b[39m 1.0.7\n",
      "\u001b[32m✔\u001b[39m \u001b[34mtidyr  \u001b[39m 1.2.0     \u001b[32m✔\u001b[39m \u001b[34mstringr\u001b[39m 1.4.0\n",
      "\u001b[32m✔\u001b[39m \u001b[34mreadr  \u001b[39m 1.3.1     \u001b[32m✔\u001b[39m \u001b[34mforcats\u001b[39m 0.5.1\n",
      "\n",
      "── \u001b[1mConflicts\u001b[22m ────────────────────────────────────────── tidyverse_conflicts() ──\n",
      "\u001b[31m✖\u001b[39m \u001b[34mdplyr\u001b[39m::\u001b[32mfilter()\u001b[39m masks \u001b[34mstats\u001b[39m::filter()\n",
      "\u001b[31m✖\u001b[39m \u001b[34mdplyr\u001b[39m::\u001b[32mlag()\u001b[39m    masks \u001b[34mstats\u001b[39m::lag()\n",
      "\n"
     ]
    }
   ],
   "source": [
    "library(tidyverse)"
   ]
  },
  {
   "cell_type": "code",
   "execution_count": 2,
   "metadata": {},
   "outputs": [],
   "source": [
    "attach(readRDS(\"sim.Rds\"))"
   ]
  },
  {
   "cell_type": "code",
   "execution_count": 3,
   "metadata": {},
   "outputs": [],
   "source": [
    "M <- M[1:10]           # mean\n",
    "COV <- COV[1:10,1:10]  # covariance\n",
    "NCENS <- NCENS[11:20]  # num of censored obs.\n",
    "OUT_D <- runif(5,7,20) # outliers distance"
   ]
  },
  {
   "cell_type": "code",
   "execution_count": 4,
   "metadata": {},
   "outputs": [],
   "source": [
    "# Random sample\n",
    "Y <- mvtnorm::rmvnorm(N, M, COV)\n",
    "\n",
    "# Outliers\n",
    "OUT <- mvtnorm::rmvnorm(length(OUT_D), rep(0, length(M))) # std mv normal\n",
    "OUT <- OUT_D * OUT / apply(OUT, 1, function(x) { norm(rbind(x), type = \"F\") }) # std mv normal with mahalanobis distance OUT_D\n",
    "OUT <- OUT %*% chol(cov(Y)) # std mv normal with distance OUT_D and cov the same as Y\n",
    "OUT <- t(t(OUT) + colMeans(Y)) # std mv normal with distance OUT_D and cov the same as Y and mean the same as Y\n",
    "OUT_I <- sample(1:nrow(Y), nrow(OUT))\n",
    "\n",
    "#' Step 1. Mix outliers (uncomment 2nd string)\n",
    "X0_s1 <- Y\n",
    "# X0_s1[OUT_I,] <- OUT\n",
    "\n",
    "#' Step 2. Censor\n",
    "X0_s2 <- X0_s1\n",
    "for (i in 1:ncol(Y)) {\n",
    "  if (NCENS[i] == 0) next();\n",
    "  X0_s2[order(Y[,i])[1:(NCENS[i])],i] <- NA\n",
    "}\n",
    "\n",
    "# Random censored sample with outliers\n",
    "X0 <- X0_s2"
   ]
  },
  {
   "cell_type": "code",
   "execution_count": 5,
   "metadata": {},
   "outputs": [
    {
     "name": "stdout",
     "output_type": "stream",
     "text": [
      "Iter 1, -1e+10 -> -112.86183\n",
      "Iter 2, -112.86183 -> -35.36523\n",
      "Iter 3, -35.36523 -> -18.04968\n",
      "Iter 4, -18.04968 -> -11.61173\n",
      "Iter 5, -11.61173 -> -8.66006\n",
      "Iter 6, -8.66006 -> -7.20658\n",
      "Iter 7, -7.20658 -> -6.47017\n",
      "Iter 8, -6.47017 -> -6.09413\n",
      "Iter 9, -6.09413 -> -5.90587\n",
      "Iter 10, -5.90587 -> -5.81192\n",
      "Iter 11, -5.81192 -> -5.76459\n",
      "Iter 12, -5.76459 -> -5.74177\n",
      "Iter 13, -5.74177 -> -5.73113\n",
      "Iter 14, -5.73113 -> -5.72508\n",
      "Iter 15, -5.72508 -> -5.72161\n",
      "Iter 16, -5.72161 -> -5.722\n"
     ]
    }
   ],
   "source": [
    "max_iter <- 100\n",
    "iter <- 0\n",
    "ll_old <- -Inf\n",
    "ll <- -1e10\n",
    "tol <- 1e-10\n",
    "\n",
    "n <- nrow(Y)\n",
    "k <- ncol(Y)\n",
    "LOD <- apply(X0, 2, min, na.rm = T)\n",
    "mu <- apply(X0, 2, mean, na.rm = T)\n",
    "cov <- diag(1,k)\n",
    "hist <- list(ll = list(), mu = list(), cov = list())\n",
    "\n",
    "while ((iter < max_iter) & ((ll - ll_old) >= tol * abs(ll))) {\n",
    "    iter <- iter + 1\n",
    "    X <- X0\n",
    "    R <- array(0, c(k,k,n))\n",
    "    for (i in 1:n) {\n",
    "        o <- !is.na(X0[i,])\n",
    "        if (sum(o) == k) next()\n",
    "        m <- mu[!o] + cov[!o,o] %*% solve(cov[o,o]) %*% (X0[i,o] - mu[o])\n",
    "        v <- cov[!o,!o] - cov[!o,o] %*% solve(cov[o,o]) %*% cov[o,!o]\n",
    "        mm <- tmvtnorm::mtmvnorm(m[,1], v, upper = LOD[!o])\n",
    "        X[i,!o] <- mm$tmean\n",
    "        R[!o,!o,i] <- mm$tvar\n",
    "    }\n",
    "    mu <- apply(X, 2, mean)\n",
    "    S <- sapply(1:n, function(i) {\n",
    "        (X[i,] - mu) %*% t(X[i,] - mu) + R[,,i]\n",
    "    })\n",
    "    cov <- matrix(apply(S, 1, mean), k, k)\n",
    "    cov <- (cov + t(cov)) / 2\n",
    "\n",
    "    ll_old <- ll\n",
    "    ll <- sum(sapply(1:n, function(i) {\n",
    "        x <- X[i,]\n",
    "        o <- !is.na(X0[i,])\n",
    "        quadform <- t(x[o] - mu[o]) %*% solve(cov[o,o]) %*% (x[o] - mu[o])\n",
    "        logDetSig <- if (sum(o) == 1) { log(cov[o,o]) } else { log(det(cov[o,o])) }\n",
    "        log_Phi <- if (sum(!o) > 0) {\n",
    "            m <- mu[!o] + cov[!o,o] %*% solve(cov[o,o]) %*% (x[o] - mu[o])\n",
    "            v <- cov[!o,!o] - cov[!o,o] %*% solve(cov[o,o]) %*% cov[o,!o]\n",
    "\n",
    "            log(mvtnorm::pmvnorm(lower = -Inf, upper = LOD[!o], mean = m[,1], sigma = v))\n",
    "        } else {\n",
    "            0\n",
    "        }\n",
    "        - .5 * quadform - .5 * logDetSig + log_Phi - sum(o) * log(2 * pi) / 2\n",
    "    }))\n",
    "\n",
    "    print(str_glue(\"Iter {iter}, {round(ll_old,5)} -> {round(ll, 5)}\"))\n",
    "    flush.console()\n",
    "\n",
    "    hist$ll[[iter]] <- ll\n",
    "    hist$mu[[iter]] <- mu\n",
    "    hist$cov[[iter]] <- cov\n",
    "}"
   ]
  },
  {
   "cell_type": "code",
   "execution_count": 6,
   "metadata": {},
   "outputs": [
    {
     "name": "stdout",
     "output_type": "stream",
     "text": [
      "EM:  0.01712496\n",
      "Raw: 0.1731536"
     ]
    }
   ],
   "source": [
    "cat(\"EM: \", sum((M - mu)^2))\n",
    "cat(\"\\n\")\n",
    "cat(\"Raw:\", sum((M - apply(X0, 2, mean, na.rm = T))^2))"
   ]
  },
  {
   "cell_type": "code",
   "execution_count": 7,
   "metadata": {},
   "outputs": [
    {
     "name": "stdout",
     "output_type": "stream",
     "text": [
      "EM:  0.03204334\n",
      "Raw: 0.08705788"
     ]
    }
   ],
   "source": [
    "cat(\"EM: \", sum((COV - cov)^2))\n",
    "cat(\"\\n\")\n",
    "cat(\"Raw:\", sum((COV - cov(X0, use = \"pairwise\"))^2))"
   ]
  },
  {
   "cell_type": "code",
   "execution_count": null,
   "metadata": {},
   "outputs": [],
   "source": []
  }
 ],
 "metadata": {
  "kernelspec": {
   "display_name": "R 4.0",
   "language": "R",
   "name": "ir40"
  },
  "language_info": {
   "codemirror_mode": "r",
   "file_extension": ".r",
   "mimetype": "text/x-r-source",
   "name": "R",
   "pygments_lexer": "r",
   "version": "4.0.2"
  }
 },
 "nbformat": 4,
 "nbformat_minor": 4
}
